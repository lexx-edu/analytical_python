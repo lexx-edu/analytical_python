{
 "cells": [
  {
   "cell_type": "markdown",
   "id": "8b36d892-8c0f-4e82-b868-f5bf4efd46f9",
   "metadata": {},
   "source": [
    "# Урок 1. Оформление ноутбука и закрепление функций и генераторов"
   ]
  },
  {
   "cell_type": "markdown",
   "id": "96f7e979-73ef-4cfd-9fb9-8eb194c941c1",
   "metadata": {},
   "source": [
    "## Задача 2."
   ]
  },
  {
   "cell_type": "markdown",
   "id": "e541d720-2710-4a67-8c09-13c6832e0fb8",
   "metadata": {},
   "source": [
    "На складе лежат разные фрукты в разном количестве.Нужно написать функцию, которая на вход принимает любое количество названий фруктов и их количество, а возвращает общее количество фруктов на складе"
   ]
  },
  {
   "cell_type": "markdown",
   "id": "07e8d236-9c18-46dc-9257-e2452c34b1e1",
   "metadata": {},
   "source": [
    "**Комментарий:** не совсем понятно, для чего функции передавать имена фруктов, для решения этой задачи."
   ]
  },
  {
   "cell_type": "code",
   "execution_count": 1,
   "id": "a490d5d6-2760-453a-84e4-23bc1d1ade40",
   "metadata": {},
   "outputs": [],
   "source": [
    "fruit_names = ['apple', 'kiwi', 'lemon']\n",
    "fruit_qtys  = [3, 7, 1]"
   ]
  },
  {
   "cell_type": "code",
   "execution_count": 2,
   "id": "1ce6afb8-685b-4d78-b09c-43fab9733ce3",
   "metadata": {},
   "outputs": [],
   "source": [
    "def total_fruits(names, qtys):\n",
    "    for i, q in zip(names, qtys):\n",
    "        print(i, '\\t', q)\n",
    "    \n",
    "    result = sum(qtys)\n",
    "    print('\\ntotal', '\\t', result)\n",
    "    return result"
   ]
  },
  {
   "cell_type": "code",
   "execution_count": 3,
   "id": "dc1d7e2c-5ae3-4efd-bf9f-108ffb231c1d",
   "metadata": {},
   "outputs": [
    {
     "name": "stdout",
     "output_type": "stream",
     "text": [
      "apple \t 3\n",
      "kiwi \t 7\n",
      "lemon \t 1\n",
      "\n",
      "total \t 11\n"
     ]
    }
   ],
   "source": [
    "total = total_fruits(fruit_names, fruit_qtys)"
   ]
  },
  {
   "cell_type": "markdown",
   "id": "34992dd7-9e3e-482d-a4bc-b2367448a240",
   "metadata": {},
   "source": [
    "## Задача 3."
   ]
  },
  {
   "cell_type": "markdown",
   "id": "7b3e8850-9a2a-45a6-8d72-29683320de6a",
   "metadata": {},
   "source": [
    "Дан список с затратами на рекламу. Но в данных есть ошибки, некоторые затраты имеют отрицательную величину. Удалите такие значения из списка и посчитайте суммарные затраты, используйя list comprehensions."
   ]
  },
  {
   "cell_type": "code",
   "execution_count": 4,
   "id": "076681d6-8549-44f1-99a5-a89d8f1d5a70",
   "metadata": {},
   "outputs": [],
   "source": [
    "costs = [100, 125, -90, 345, 655, -1, 0, 200]"
   ]
  },
  {
   "cell_type": "code",
   "execution_count": 5,
   "id": "b7eca96a-14cd-48cb-a53e-6dd52f4327e2",
   "metadata": {},
   "outputs": [
    {
     "data": {
      "text/plain": [
       "1425"
      ]
     },
     "execution_count": 5,
     "metadata": {},
     "output_type": "execute_result"
    }
   ],
   "source": [
    "sum([i for i in costs if i >= 0])"
   ]
  },
  {
   "cell_type": "markdown",
   "id": "4d7c019c-5189-45ef-bfd7-9f5eed1f3179",
   "metadata": {},
   "source": [
    "## Задача 4."
   ]
  },
  {
   "cell_type": "markdown",
   "id": "f64e3102-c859-41f4-9ab8-22a6d5e4d3e2",
   "metadata": {},
   "source": [
    "Даны два списка: даты покупок и суммы этих покупок."
   ]
  },
  {
   "cell_type": "code",
   "execution_count": 6,
   "id": "19cf54d0-e6e6-49f7-ae50-d7fb416ce55d",
   "metadata": {},
   "outputs": [],
   "source": [
    "dates = ['2021-09-14', '2021-12-15', '2021-09-08', '2021-12-05', '2021-10-09', '2021-09-30', \n",
    "         '2021-12-22', '2021-11-29', '2021-12-24', '2021-11-26', '2021-10-27', '2021-12-18', \n",
    "         '2021-11-09', '2021-11-23', '2021-09-27', '2021-10-02', '2021-12-27', '2021-09-20', \n",
    "         '2021-12-13', '2021-11-01', '2021-11-09', '2021-12-06', '2021-12-08', '2021-10-09', \n",
    "         '2021-10-31', '2021-09-30', '2021-11-09', '2021-12-13', '2021-10-26', '2021-12-09']\n",
    "\n",
    "cheks = [1270, 8413, 9028, 3703, 5739, 4095, 295, 4944, 5723, 3701, 4471, 651, 7037, 4274, 6275, \n",
    "         4988, 6930, 2971, 6592, 2004, 2822, 519, 3406, 2732, 5015, 2008, 316, 6333, 5700, 2887]"
   ]
  },
  {
   "cell_type": "markdown",
   "id": "df5ee765-18f2-4e99-abc4-2e052a6a1b31",
   "metadata": {},
   "source": [
    "### Задача 4.1"
   ]
  },
  {
   "cell_type": "markdown",
   "id": "35282627-c71e-4e40-8ebd-ec8eb264ce05",
   "metadata": {},
   "source": [
    "Найдите, какая выручка у компании в ноябре, используя list comprehensions."
   ]
  },
  {
   "cell_type": "code",
   "execution_count": 7,
   "id": "67828548-e563-4f60-acf7-f2045cb13f12",
   "metadata": {},
   "outputs": [
    {
     "data": {
      "text/plain": [
       "25098"
      ]
     },
     "execution_count": 7,
     "metadata": {},
     "output_type": "execute_result"
    }
   ],
   "source": [
    "sum([i for n, i in zip(dates, cheks) if n[5:7]=='11'])"
   ]
  },
  {
   "cell_type": "markdown",
   "id": "29bce4c5-09dc-4397-b67d-694b88163a94",
   "metadata": {},
   "source": [
    "### Задача 4.2"
   ]
  },
  {
   "cell_type": "markdown",
   "id": "7627c8da-fc4e-4a54-8142-8f5f03548bc4",
   "metadata": {},
   "source": [
    "Найдите выручку компании в зависимости от месяца. Для этого напишите функцию, которая на вход принимает список с датами и список с выручкой, а на выходе словарь, где ключи - это месяцы, а значения - это выручка. Используйте аннотирование типов."
   ]
  },
  {
   "cell_type": "code",
   "execution_count": 8,
   "id": "450b860b-5115-4f0f-8402-d0b56d38e432",
   "metadata": {},
   "outputs": [],
   "source": [
    "def amount_per_month(dates_lst: list, cheks_lst: list) -> dict:\n",
    "    result = {}\n",
    "    \n",
    "    for i, k in zip(dates_lst, cheks_lst):\n",
    "        month = int(i[5:7])\n",
    "        if month in result:\n",
    "            result[month] += k\n",
    "        else:\n",
    "            result[month] = k\n",
    "            \n",
    "    return result"
   ]
  },
  {
   "cell_type": "code",
   "execution_count": 9,
   "id": "cba173d0-3de6-45ad-9708-749c9437b295",
   "metadata": {},
   "outputs": [
    {
     "data": {
      "text/plain": [
       "{9: 25647, 12: 45452, 10: 28645, 11: 25098}"
      ]
     },
     "execution_count": 9,
     "metadata": {},
     "output_type": "execute_result"
    }
   ],
   "source": [
    "amount_per_month(dates, cheks)"
   ]
  }
 ],
 "metadata": {
  "kernelspec": {
   "display_name": "Python 3 (ipykernel)",
   "language": "python",
   "name": "python3"
  },
  "language_info": {
   "codemirror_mode": {
    "name": "ipython",
    "version": 3
   },
   "file_extension": ".py",
   "mimetype": "text/x-python",
   "name": "python",
   "nbconvert_exporter": "python",
   "pygments_lexer": "ipython3",
   "version": "3.9.16"
  }
 },
 "nbformat": 4,
 "nbformat_minor": 5
}
